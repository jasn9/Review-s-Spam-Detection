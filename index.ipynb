{
 "cells": [
  {
   "cell_type": "code",
   "execution_count": 1,
   "metadata": {},
   "outputs": [],
   "source": [
    "import utils\n",
    "import evaluators\n",
    "import numpy as np\n",
    "import pandas as pd\n",
    "from matplotlib import pyplot"
   ]
  },
  {
   "cell_type": "code",
   "execution_count": 2,
   "metadata": {},
   "outputs": [],
   "source": [
    "dataset = 'YelpChi'\n",
    "path = 'Yelp_Dataset/'+dataset+'/metadata.gz'"
   ]
  },
  {
   "cell_type": "code",
   "execution_count": 3,
   "metadata": {},
   "outputs": [
    {
     "name": "stdout",
     "output_type": "stream",
     "text": [
      "No of Lines read# 67395\n"
     ]
    },
    {
     "data": {
      "text/html": [
       "<div>\n",
       "<style scoped>\n",
       "    .dataframe tbody tr th:only-of-type {\n",
       "        vertical-align: middle;\n",
       "    }\n",
       "\n",
       "    .dataframe tbody tr th {\n",
       "        vertical-align: top;\n",
       "    }\n",
       "\n",
       "    .dataframe thead th {\n",
       "        text-align: right;\n",
       "    }\n",
       "</style>\n",
       "<table border=\"1\" class=\"dataframe\">\n",
       "  <thead>\n",
       "    <tr style=\"text-align: right;\">\n",
       "      <th></th>\n",
       "      <th>UserId</th>\n",
       "      <th>ProductId</th>\n",
       "      <th>Rating</th>\n",
       "      <th>Label</th>\n",
       "      <th>Date</th>\n",
       "    </tr>\n",
       "  </thead>\n",
       "  <tbody>\n",
       "    <tr>\n",
       "      <th>0</th>\n",
       "      <td>201</td>\n",
       "      <td>0</td>\n",
       "      <td>5.0</td>\n",
       "      <td>1</td>\n",
       "      <td>2011-06-08</td>\n",
       "    </tr>\n",
       "    <tr>\n",
       "      <th>1</th>\n",
       "      <td>202</td>\n",
       "      <td>0</td>\n",
       "      <td>3.0</td>\n",
       "      <td>1</td>\n",
       "      <td>2011-08-30</td>\n",
       "    </tr>\n",
       "    <tr>\n",
       "      <th>2</th>\n",
       "      <td>203</td>\n",
       "      <td>0</td>\n",
       "      <td>5.0</td>\n",
       "      <td>1</td>\n",
       "      <td>2009-06-26</td>\n",
       "    </tr>\n",
       "    <tr>\n",
       "      <th>3</th>\n",
       "      <td>204</td>\n",
       "      <td>0</td>\n",
       "      <td>1.0</td>\n",
       "      <td>1</td>\n",
       "      <td>2010-09-16</td>\n",
       "    </tr>\n",
       "    <tr>\n",
       "      <th>4</th>\n",
       "      <td>205</td>\n",
       "      <td>0</td>\n",
       "      <td>3.0</td>\n",
       "      <td>1</td>\n",
       "      <td>2010-02-05</td>\n",
       "    </tr>\n",
       "    <tr>\n",
       "      <th>...</th>\n",
       "      <td>...</td>\n",
       "      <td>...</td>\n",
       "      <td>...</td>\n",
       "      <td>...</td>\n",
       "      <td>...</td>\n",
       "    </tr>\n",
       "    <tr>\n",
       "      <th>67390</th>\n",
       "      <td>14981</td>\n",
       "      <td>199</td>\n",
       "      <td>5.0</td>\n",
       "      <td>1</td>\n",
       "      <td>2012-04-07</td>\n",
       "    </tr>\n",
       "    <tr>\n",
       "      <th>67391</th>\n",
       "      <td>38261</td>\n",
       "      <td>199</td>\n",
       "      <td>4.0</td>\n",
       "      <td>1</td>\n",
       "      <td>2009-06-05</td>\n",
       "    </tr>\n",
       "    <tr>\n",
       "      <th>67392</th>\n",
       "      <td>38262</td>\n",
       "      <td>200</td>\n",
       "      <td>5.0</td>\n",
       "      <td>1</td>\n",
       "      <td>2012-05-06</td>\n",
       "    </tr>\n",
       "    <tr>\n",
       "      <th>67393</th>\n",
       "      <td>26974</td>\n",
       "      <td>200</td>\n",
       "      <td>2.0</td>\n",
       "      <td>1</td>\n",
       "      <td>2011-01-08</td>\n",
       "    </tr>\n",
       "    <tr>\n",
       "      <th>67394</th>\n",
       "      <td>38263</td>\n",
       "      <td>200</td>\n",
       "      <td>5.0</td>\n",
       "      <td>1</td>\n",
       "      <td>2010-01-25</td>\n",
       "    </tr>\n",
       "  </tbody>\n",
       "</table>\n",
       "<p>67395 rows × 5 columns</p>\n",
       "</div>"
      ],
      "text/plain": [
       "      UserId ProductId Rating Label        Date\n",
       "0        201         0    5.0     1  2011-06-08\n",
       "1        202         0    3.0     1  2011-08-30\n",
       "2        203         0    5.0     1  2009-06-26\n",
       "3        204         0    1.0     1  2010-09-16\n",
       "4        205         0    3.0     1  2010-02-05\n",
       "...      ...       ...    ...   ...         ...\n",
       "67390  14981       199    5.0     1  2012-04-07\n",
       "67391  38261       199    4.0     1  2009-06-05\n",
       "67392  38262       200    5.0     1  2012-05-06\n",
       "67393  26974       200    2.0     1  2011-01-08\n",
       "67394  38263       200    5.0     1  2010-01-25\n",
       "\n",
       "[67395 rows x 5 columns]"
      ]
     },
     "execution_count": 3,
     "metadata": {},
     "output_type": "execute_result"
    }
   ],
   "source": [
    "reviews_array = np.array(utils.load_reviews(path))\n",
    "reviews = pd.DataFrame(reviews_array, columns=['UserId', 'ProductId', 'Rating', 'Label', 'Date'])\n",
    "reviews"
   ]
  },
  {
   "cell_type": "code",
   "execution_count": 4,
   "metadata": {},
   "outputs": [
    {
     "data": {
      "text/plain": [
       "(58476, 8919)"
      ]
     },
     "execution_count": 4,
     "metadata": {},
     "output_type": "execute_result"
    }
   ],
   "source": [
    "one = 0\n",
    "zero = 0\n",
    "for x in reviews.Label:\n",
    "    if x=='1':\n",
    "        one += 1\n",
    "    else:\n",
    "        zero += 1\n",
    "one, zero"
   ]
  },
  {
   "cell_type": "code",
   "execution_count": 5,
   "metadata": {},
   "outputs": [],
   "source": [
    "def extract_elite_accounts(elite_threshold):\n",
    "    values, counts = np.unique(reviews.UserId, return_counts=True)\n",
    "    elite_accounts = values[counts >= elite_threshold]\n",
    "    elite_accounts = sorted(elite_accounts, key=lambda x: int(x))\n",
    "    print(\"No of elite accounts #\", len(elite_accounts))\n",
    "    return elite_accounts"
   ]
  },
  {
   "cell_type": "code",
   "execution_count": 6,
   "metadata": {},
   "outputs": [
    {
     "name": "stdout",
     "output_type": "stream",
     "text": [
      "201 38063\n"
     ]
    }
   ],
   "source": [
    "print(len(np.unique(reviews.ProductId)) , len(np.unique(reviews.UserId)))"
   ]
  },
  {
   "cell_type": "code",
   "execution_count": 7,
   "metadata": {},
   "outputs": [],
   "source": [
    "def extract_target(total_targets):\n",
    "    values, counts = np.unique(reviews.ProductId, return_counts=True)\n",
    "    target_products = values[np.argsort(counts)][:total_targets]\n",
    "    target_products = ['194', '178', '187']\n",
    "    print(\"No of Targets: \", len(target_products))\n",
    "    return target_products"
   ]
  },
  {
   "cell_type": "code",
   "execution_count": 8,
   "metadata": {
    "scrolled": true
   },
   "outputs": [],
   "source": [
    "def init(obj):\n",
    "    obj_prob = {}\n",
    "    for a in obj:\n",
    "        obj_prob[a] = 1/len(obj)\n",
    "    print(obj_prob)\n",
    "    return obj_prob"
   ]
  },
  {
   "cell_type": "code",
   "execution_count": 9,
   "metadata": {},
   "outputs": [],
   "source": [
    "def get_reviews(user_graph, product_graph, target_products, attack_p, elite_accounts, review_per_target, epsilon):\n",
    "    new_reviews = []\n",
    "    singleton_offset = 0\n",
    "    target_attack_map = {}\n",
    "    for index, target in enumerate(target_products):\n",
    "        #attack = utils.e_greedy_sample(attack_p, epsilon)\n",
    "        attack = attackors[index]\n",
    "        target_attack_map[target] = attack\n",
    "        new_reviews_1 = utils.get_new_reviews(user_graph, product_graph, attack, elite_accounts, review_per_target, singleton_offset, target)\n",
    "        print(attack, len(new_reviews_1))\n",
    "        new_reviews += new_reviews_1\n",
    "        if attack == 'Singleton':\n",
    "            singleton_offset += 1\n",
    "    return new_reviews, target_attack_map\n",
    "    "
   ]
  },
  {
   "cell_type": "code",
   "execution_count": 10,
   "metadata": {
    "scrolled": true
   },
   "outputs": [],
   "source": [
    "def play_min_max_game(attack_p, detect_q, episodes, elite_threshold, total_targets, review_per_target, learning_rate_attackors, learning_rate_detectors, epsilon, mode='Training'):\n",
    "    LOSS = []\n",
    "    PE = []\n",
    "    recall = []\n",
    "    all_attack_p = {attack: [attack_p[attack]] for attack in attack_p}\n",
    "    all_detect_q = {detect: [detect_q[detect]] for detect in detect_q}\n",
    "    \n",
    "    target_attack_map = [{} for i in range(episodes)]\n",
    "    \n",
    "    elite_accounts = extract_elite_accounts(elite_threshold)\n",
    "    target_products = extract_target(total_targets)\n",
    "    user_graph = utils.convert_review_to_user_graph(reviews)\n",
    "    product_graph = utils.convert_review_to_product_graph(reviews)\n",
    "    \n",
    "    old_ri, old_eri, old_revenue = evaluators.compute_revenue(product_graph, target_products, elite_accounts)\n",
    "    old = [old_ri, old_eri, old_revenue]\n",
    "    print(\"Old Revenue #\", old_revenue)\n",
    "        \n",
    "        \n",
    "    for i in range(episodes):\n",
    "        print(\"Startng episode #\", i)\n",
    "        \n",
    "        new_reviews, target_attack_map[i] = get_reviews(user_graph, product_graph, target_products, attack_p, elite_accounts, review_per_target, epsilon)\n",
    "        \n",
    "        \n",
    "        spam_review_probs, sum_review_probs, detector_review_probs, top_k_reviews, new_product_graph = utils.run_detectors(user_graph, product_graph, new_reviews, detect_q, top_k)\n",
    "\n",
    "        rem_new_reviews = [review for review in new_reviews if review not in top_k_reviews] \n",
    "        print(\"no of remaining_new_reviews \", len(rem_new_reviews))\n",
    "        new_product_graph = utils.remove_edges(new_product_graph, top_k_reviews)\n",
    "\n",
    "        new_ri, new_eri, new_revenue = evaluators.compute_revenue(new_product_graph, target_products, elite_accounts)\n",
    "        new = [new_ri, new_eri, new_revenue]\n",
    "        print(\"New Revenue #\", new_revenue)\n",
    "        \n",
    "        cost = evaluators.compute_cost(old, new, rem_new_reviews, elite_accounts)\n",
    "\n",
    "        rewards = evaluators.compute_reward(old, new, target_products)\n",
    "        if mode == 'Training':\n",
    "            attack_p = evaluators.update_p(attack_p, target_attack_map[i], rewards, learning_rate_attackors)\n",
    "            attack_p = evaluators.normalize_map(attack_p)\n",
    "        \n",
    "            detect_q = evaluators.update_q(detect_q, cost, detector_review_probs, sum_review_probs, rem_new_reviews, learning_rate_detectors)\n",
    "\n",
    "        practical_effect = evaluators.compute_pe(old, new, target_products)\n",
    "        total_loss = evaluators.compute_loss(cost, spam_review_probs)\n",
    "        \n",
    "        LOSS.append(total_loss)\n",
    "        PE.append(practical_effect)\n",
    "        recall.append((len(rem_new_reviews), len(new_reviews)))\n",
    "        for attack in attack_p:\n",
    "            all_attack_p[attack].append(attack_p[attack])\n",
    "        \n",
    "        for detect in detect_q:\n",
    "            all_detect_q[detect].append(detect_q[detect])\n",
    "        \n",
    "        print(\"Practical Effect: \", practical_effect)\n",
    "        print(\"Total Loss: \", total_loss)\n",
    "    return attack_p, detect_q, all_attack_p, all_detect_q, LOSS, PE, recall\n",
    "    "
   ]
  },
  {
   "cell_type": "code",
   "execution_count": null,
   "metadata": {
    "scrolled": true
   },
   "outputs": [
    {
     "name": "stdout",
     "output_type": "stream",
     "text": [
      "{'IncBP': 0.2, 'IncDS': 0.2, 'IncPR': 0.2, 'Random': 0.2, 'Singleton': 0.2}\n",
      "{'GANG': 0.2, 'Prior': 0.2, 'SpEagle': 0.2, 'fBox': 0.2, 'Fraudar': 0.2}\n",
      "No of elite accounts # 536\n",
      "No of Targets:  3\n",
      "Old Revenue # {'194': 0.24138348320260924, '178': 0.13138348320260926, '187': 0.09638348320260925}\n",
      "Startng episode # 0\n",
      "IncBP 5\n",
      "IncDS 5\n",
      "IncPR 5\n",
      "Run GANG ...\n",
      "Run Prior ...\n",
      "Run SpEagle ...\n",
      "Run fBox ...\n",
      "Run Fraudar ...\n",
      "[('5429', '194'), ('5364', '194'), ('5409', '194'), ('6359', '194'), ('6739', '194'), ('6197', '178'), ('6381', '178'), ('6024', '178'), ('6585', '178'), ('7419', '178'), ('7202', '187'), ('5330', '187'), ('6381', '187'), ('13818', '187'), ('11557', '187')]\n",
      "('7202', '187')\n",
      "top k is  337\n",
      "no of remaining_new_reviews  14\n",
      "New Revenue # {'194': 0.3103835291015732, '178': 0.3103835291015732, '187': 0.3033835291015732}\n",
      "Practical Effect:  0.4550001376968918\n",
      "Total Loss:  0.017828483586196636\n",
      "Startng episode # 1\n",
      "IncBP 5\n",
      "IncDS 5\n",
      "IncPR 5\n",
      "Run GANG ...\n",
      "Run Prior ...\n",
      "Run SpEagle ...\n",
      "Run fBox ...\n",
      "Run Fraudar ...\n",
      "[('5429', '194'), ('5364', '194'), ('5409', '194'), ('6359', '194'), ('6739', '194'), ('6197', '178'), ('6381', '178'), ('6024', '178'), ('6585', '178'), ('7419', '178'), ('7202', '187'), ('5330', '187'), ('6381', '187'), ('13818', '187'), ('11557', '187')]\n",
      "('7202', '187')\n",
      "top k is  337\n",
      "no of remaining_new_reviews  14\n",
      "New Revenue # {'194': 0.29100241404011024, '178': 0.3110024140401102, '187': 0.3040024140401102}\n",
      "Practical Effect:  0.43685679251250287\n",
      "Total Loss:  0.012777172298166632\n",
      "Startng episode # 2\n",
      "IncBP 5\n",
      "IncDS 5\n",
      "IncPR 5\n",
      "Run GANG ...\n",
      "Run Prior ...\n",
      "Run SpEagle ...\n",
      "Run fBox ...\n",
      "Run Fraudar ...\n",
      "[('5429', '194'), ('5364', '194'), ('5409', '194'), ('6359', '194'), ('6739', '194'), ('6197', '178'), ('6381', '178'), ('6024', '178'), ('6585', '178'), ('7419', '178'), ('7202', '187'), ('5330', '187'), ('6381', '187'), ('13818', '187'), ('11557', '187')]\n",
      "top k is  337\n",
      "no of remaining_new_reviews  14\n",
      "New Revenue # {'194': 0.29103873518781725, '178': 0.3110387351878172, '187': 0.3040387351878172}\n",
      "Practical Effect:  0.4369657559556239\n",
      "Total Loss:  0.010113819020742792\n",
      "Startng episode # 3\n",
      "IncBP 5\n",
      "IncDS 5\n"
     ]
    }
   ],
   "source": [
    "elite_threshold = 10\n",
    "attackors = ['IncBP', 'IncDS', 'IncPR', 'Random', 'Singleton']\n",
    "detectors = ['GANG', 'Prior', 'SpEagle', 'fBox', 'Fraudar']\n",
    "episodes = 5\n",
    "total_targets = 3\n",
    "epsilon = 0.1\n",
    "review_per_target = 5\n",
    "top_k = 0.01\n",
    "learning_rate_attackors = 0.01\n",
    "learning_rate_detectors = 30\n",
    "attack_p = init(attackors)\n",
    "detect_q = init(detectors)\n",
    "attack_p, detect_q, all_attack_p, all_detect_q, LOSS, PE, recall = play_min_max_game(attack_p, detect_q, episodes, \\\n",
    "            elite_threshold, total_targets, review_per_target, learning_rate_attackors, learning_rate_detectors, epsilon)"
   ]
  },
  {
   "cell_type": "code",
   "execution_count": null,
   "metadata": {},
   "outputs": [],
   "source": [
    "def plotData(x_axis_data, y_axis_data, x_label, y_label, curve_label=\"\"):\n",
    "    pyplot.plot(x_axis_data, y_axis_data, label=curve_label)\n",
    "    pyplot.xlabel(x_label)\n",
    "    pyplot.ylabel(y_label)\n"
   ]
  },
  {
   "cell_type": "code",
   "execution_count": null,
   "metadata": {},
   "outputs": [],
   "source": [
    "LOSS, PE, all_attack_p, all_detect_q, recall"
   ]
  },
  {
   "cell_type": "code",
   "execution_count": null,
   "metadata": {},
   "outputs": [],
   "source": [
    "plotData(range(1, episodes+1), LOSS, \"Episodes\", \"Loss\")"
   ]
  },
  {
   "cell_type": "code",
   "execution_count": null,
   "metadata": {},
   "outputs": [],
   "source": [
    "plotData(range(1, episodes+1), PE, \"Episodes\", \"PE\")"
   ]
  },
  {
   "cell_type": "code",
   "execution_count": null,
   "metadata": {},
   "outputs": [],
   "source": [
    "for attack in all_attack_p:\n",
    "    plotData(range(1, episodes+2), all_attack_p[attack], \"Episodes\", \"Attack P\", attack)\n",
    "pyplot.legend()\n",
    "pyplot.show()"
   ]
  },
  {
   "cell_type": "code",
   "execution_count": null,
   "metadata": {},
   "outputs": [],
   "source": [
    "for detect in all_detect_q:\n",
    "    plotData(range(1, episodes+2), all_detect_q[detect], \"Episodes\", \"Detect P\", detect)\n",
    "pyplot.legend()\n",
    "pyplot.show()"
   ]
  },
  {
   "cell_type": "code",
   "execution_count": null,
   "metadata": {},
   "outputs": [],
   "source": [
    "loss_detectors = []\n",
    "detectors_l = []\n",
    "for detect in detect_q:\n",
    "    _,_,_,_, LOSS, PE, recall = play_min_max_game(attack_p, {detect: 1}, 1, \\\n",
    "            elite_threshold, 3, 3, learning_rate_attackors, learning_rate_detectors, epsilon, \"Testing\")\n",
    "    loss_detectors.append(LOSS)\n",
    "    detectors_l.append(detect)\n",
    "    \n",
    "    print(detect, LOSS, PE)\n",
    "_,_,_,_, nash_loss, PE, recall = play_min_max_game(attack_p, detect_q, 1, \\\n",
    "            elite_threshold, 3, 3, learning_rate_attackors, learning_rate_detectors, epsilon, \"Testing\")\n",
    "loss_detectors.append(nash_loss)\n",
    "detectors_l.append(\"nash detect\")"
   ]
  },
  {
   "cell_type": "code",
   "execution_count": null,
   "metadata": {},
   "outputs": [],
   "source": [
    "plotData(detectors_l, loss_detectors, \"Detectors\", \"Loss\")"
   ]
  }
 ],
 "metadata": {
  "kernelspec": {
   "display_name": "Python 3",
   "language": "python",
   "name": "python3"
  },
  "language_info": {
   "codemirror_mode": {
    "name": "ipython",
    "version": 3
   },
   "file_extension": ".py",
   "mimetype": "text/x-python",
   "name": "python",
   "nbconvert_exporter": "python",
   "pygments_lexer": "ipython3",
   "version": "3.8.5"
  }
 },
 "nbformat": 4,
 "nbformat_minor": 4
}
